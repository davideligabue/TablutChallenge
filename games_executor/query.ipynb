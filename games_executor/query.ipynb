{
 "cells": [
  {
   "cell_type": "code",
   "execution_count": 89,
   "metadata": {},
   "outputs": [],
   "source": [
    "import numpy as np\n",
    "dataset = np.load(\"datasets/dataset_moves.npy\", allow_pickle=True)\n",
    "results = np.load(\"datasets/dataset_results.npy\", allow_pickle=True)\n",
    "names = np.load(\"datasets/dataset_names.npy\", allow_pickle=True)"
   ]
  },
  {
   "cell_type": "code",
   "execution_count": 90,
   "metadata": {},
   "outputs": [
    {
     "name": "stdout",
     "output_type": "stream",
     "text": [
      "Number of equal matches: 0\n",
      "the eqal matches are:\n"
     ]
    }
   ],
   "source": [
    "# Check if all the matches are equal\n",
    "indices_equal = []\n",
    "for i in range(len(dataset)):\n",
    "    for j in range(i + 1, len(dataset)):\n",
    "        if  np.array_equal(dataset[i], dataset[j]) and not ((j,i) in indices_equal):\n",
    "            indices_equal.append((i, j))\n",
    "            \n",
    "print(f\"Number of equal matches: {len(indices_equal)}\")\n",
    "\n",
    "print(f\"the eqal matches are:\")\n",
    "for ind, (i,j) in enumerate(indices_equal):\n",
    "    print(f\"\\t{ind+1}) {names[i]}\\tand\\t{names[j]}\")\n",
    "    "
   ]
  },
  {
   "cell_type": "markdown",
   "metadata": {},
   "source": [
    "## Quanti match utili"
   ]
  },
  {
   "cell_type": "code",
   "execution_count": 91,
   "metadata": {},
   "outputs": [
    {
     "name": "stdout",
     "output_type": "stream",
     "text": [
      "Nel dataset ci sono 9 match con più di 15 mosse\n"
     ]
    }
   ],
   "source": [
    "X = 15\n",
    "count = sum(len(match) > X for match in dataset)\n",
    "print(f\"Nel dataset ci sono {count} match con più di {X} mosse\")"
   ]
  },
  {
   "cell_type": "markdown",
   "metadata": {},
   "source": [
    "## La n-esima mossa più frequente"
   ]
  },
  {
   "cell_type": "code",
   "execution_count": 92,
   "metadata": {},
   "outputs": [
    {
     "name": "stdout",
     "output_type": "stream",
     "text": [
      "Mossa: (g5, g9), Occorrenze: 12\n",
      "Mossa: (e6, d6), Occorrenze: 3\n",
      "Mossa: (e6, f6), Occorrenze: 1\n",
      "Mossa: (f5, f4), Occorrenze: 1\n",
      "Mossa: (c5, c1), Occorrenze: 1\n"
     ]
    }
   ],
   "source": [
    "from collections import Counter\n",
    "\n",
    "idx = 0         # which move (column)\n",
    "num_list = 5    # how many results\n",
    "\n",
    "idx_moves = []\n",
    "for match in dataset :\n",
    "    try:\n",
    "        idx_moves.append(tuple(match[idx]))\n",
    "    except: continue\n",
    "    \n",
    "move_counter = Counter(idx_moves)\n",
    "most_common_move, most_common_count = move_counter.most_common(1)[0]\n",
    "\n",
    "most_common_moves = move_counter.most_common(num_list)\n",
    "\n",
    "# Stampa le N mosse più frequenti\n",
    "for move, count in most_common_moves:\n",
    "    print(f\"Mossa: ({move[0]}, {move[1]}), Occorrenze: {count}\")"
   ]
  },
  {
   "cell_type": "markdown",
   "metadata": {},
   "source": [
    "## Quante vittorie, pareggi o sconfitte ?"
   ]
  },
  {
   "cell_type": "code",
   "execution_count": 93,
   "metadata": {},
   "outputs": [
    {
     "name": "stdout",
     "output_type": "stream",
     "text": [
      "Total matches: 19\n",
      "\twhite_wins=13\n",
      "\tblack_wins=1\n",
      "\tdraws=5\n",
      "\tother=0\n"
     ]
    }
   ],
   "source": [
    "white_wins_supposed = sum(len(match)%2!=0 for match in dataset)\n",
    "black_wins_supposed = sum(len(match)%2==0 for match in dataset)\n",
    "\n",
    "white_wins = sum(res==\"W\" for res in results)   # White wins\n",
    "black_wins = sum(res==\"B\" for res in results)   # Black wins\n",
    "draws =      sum(res==\"D\" for res in results)   # Draw\n",
    "other =      sum(res==\"I\" for res in results)   # Incomplete result\n",
    "\n",
    "print(f\"Total matches: {len(dataset)}\")\n",
    "\n",
    "# print(white_wins_supposed,black_wins_supposed)\n",
    "# print(white_wins_supposed + black_wins_supposed)\n",
    "\n",
    "print(f\"\\twhite_wins={white_wins}\\n\\tblack_wins={black_wins}\\n\\tdraws={draws}\\n\\tother={other}\")\n",
    "# print(white_wins + black_wins + draws + other)"
   ]
  },
  {
   "cell_type": "code",
   "execution_count": 94,
   "metadata": {},
   "outputs": [
    {
     "name": "stdout",
     "output_type": "stream",
     "text": [
      "Incomplete matches:\n"
     ]
    }
   ],
   "source": [
    "incomplete_indices = [i for i, res in enumerate(results) if res == \"I\"]\n",
    "\n",
    "# Stampa gli indici delle partite incomplete\n",
    "print(\"Incomplete matches:\")\n",
    "for i in incomplete_indices:\n",
    "    print(f\"\\t{names[i]}\")"
   ]
  },
  {
   "cell_type": "markdown",
   "metadata": {},
   "source": [
    "## Delete incomplete results"
   ]
  },
  {
   "cell_type": "code",
   "execution_count": 95,
   "metadata": {},
   "outputs": [],
   "source": [
    "incomplete_idxs = results==\"I\"\n",
    "dataset_cleaned = np.delete(dataset, incomplete_idxs, axis=0)\n",
    "results_cleaned = np.delete(results, incomplete_idxs, axis=0)"
   ]
  },
  {
   "cell_type": "code",
   "execution_count": 96,
   "metadata": {},
   "outputs": [
    {
     "name": "stdout",
     "output_type": "stream",
     "text": [
      "Total matches: 19\n",
      "\twhite_wins=13\n",
      "\tblack_wins=1\n",
      "\tdraws=5\n",
      "\tother=0\n"
     ]
    }
   ],
   "source": [
    "white_wins_supposed = sum(len(match)%2!=0 for match in dataset_cleaned)\n",
    "black_wins_supposed = sum(len(match)%2==0 for match in dataset_cleaned)\n",
    "\n",
    "white_wins = sum(res==\"W\" for res in results_cleaned)   # White wins\n",
    "black_wins = sum(res==\"B\" for res in results_cleaned)   # Black wins\n",
    "draws =      sum(res==\"D\" for res in results_cleaned)   # Draw\n",
    "other =      sum(res==\"I\" for res in results_cleaned)   # Incomplete result\n",
    "\n",
    "print(f\"Total matches: {len(dataset)}\")\n",
    "\n",
    "# print(white_wins_supposed,black_wins_supposed)\n",
    "# print(white_wins_supposed + black_wins_supposed)\n",
    "\n",
    "print(f\"\\twhite_wins={white_wins}\\n\\tblack_wins={black_wins}\\n\\tdraws={draws}\\n\\tother={other}\")\n",
    "# print(white_wins + black_wins + draws + other)"
   ]
  },
  {
   "cell_type": "code",
   "execution_count": 97,
   "metadata": {},
   "outputs": [],
   "source": [
    "# np.save(\"dataset_moves_cleaned.npy\", dataset_cleaned)\n",
    "# np.save(\"dataset_results_cleaned.npy\", results_cleaned)"
   ]
  },
  {
   "cell_type": "markdown",
   "metadata": {},
   "source": [
    "## Qual è la n-esima mossa più vincente ?"
   ]
  },
  {
   "cell_type": "code",
   "execution_count": 98,
   "metadata": {},
   "outputs": [
    {
     "name": "stdout",
     "output_type": "stream",
     "text": [
      "Mossa: (g9, i9), Win race: 23.0769%\n",
      "Mossa: (g9, g1), Win race: 15.3846%\n",
      "Mossa: (e5, f5), Win race: 15.3846%\n",
      "Mossa: (f5, g5), Win race: 7.6923%\n",
      "Mossa: (f5, f8), Win race: 7.6923%\n"
     ]
    }
   ],
   "source": [
    "from collections import Counter\n",
    "\n",
    "idx = 2         # which move (column)\n",
    "num_list = 5    # how many results (None for all)\n",
    "\n",
    "idx_moves = []\n",
    "for i, match in enumerate(dataset_cleaned) :\n",
    "    try:\n",
    "        res = results_cleaned[i]\n",
    "        if (idx % 2 == 0 and res==\"W\") or (idx % 2 != 0 and res==\"B\") :\n",
    "            idx_moves.append(tuple(match[idx]))\n",
    "    except: continue\n",
    "    \n",
    "move_counter = Counter(idx_moves)\n",
    "most_common_move, most_common_count = move_counter.most_common(1)[0]\n",
    "\n",
    "most_common_moves = move_counter.most_common(num_list)\n",
    "\n",
    "# Stampa le N mosse più frequenti\n",
    "# c = 0   # probability check\n",
    "for move, count in most_common_moves:\n",
    "    \n",
    "    if idx % 2 == 0:\n",
    "        print(f\"Mossa: ({move[0].item()}, {move[1].item()}), Win race: {count / white_wins * 100:.4f}%\")\n",
    "        # c += count / white_wins * 100   # probability check\n",
    "    else:\n",
    "        print(f\"Mossa: ({move[0].item()}, {move[1].item()}), Win race: {count / black_wins * 100:.4f}%\")\n",
    "        # c += count / black_wins * 100   # probability check\n",
    "# print(c)    # probability check"
   ]
  },
  {
   "cell_type": "code",
   "execution_count": null,
   "metadata": {},
   "outputs": [
    {
     "name": "stdout",
     "output_type": "stream",
     "text": [
      "       flag3 grey flag2 flag1 random\n",
      "flag3           W     W     W      W\n",
      "grey       W          D            W\n",
      "flag2      B    D           D      W\n",
      "flag1      W    W     W            W\n",
      "random     D    D     W     W       \n"
     ]
    }
   ],
   "source": [
    "import pandas as pd\n",
    "\n",
    "names_parsed = [(name.split(\"_\")[1], name.split(\"_\")[3]) for name in names]\n",
    "\n",
    "players = set(player for pair in names_parsed for player in pair)\n",
    "\n",
    "correlation_matrix = pd.DataFrame(\"\", index=list(players), columns=list(players), dtype=str)\n",
    "\n",
    "for idx, (p1, p2) in enumerate(names_parsed):\n",
    "    if results[idx] == \"W\":  \n",
    "        correlation_matrix.at[p1, p2] += \"W\"\n",
    "    elif results[idx] == \"B\":  \n",
    "        correlation_matrix.at[p1, p2] += \"B\"\n",
    "    else:  \n",
    "        correlation_matrix.at[p1, p2] += \"D\"\n",
    "        # correlation_matrix.at[p2, p1] += \"D\"\n",
    "\n",
    "print(correlation_matrix)"
   ]
  },
  {
   "cell_type": "code",
   "execution_count": null,
   "metadata": {},
   "outputs": [],
   "source": []
  }
 ],
 "metadata": {
  "kernelspec": {
   "display_name": "Python 3",
   "language": "python",
   "name": "python3"
  },
  "language_info": {
   "codemirror_mode": {
    "name": "ipython",
    "version": 3
   },
   "file_extension": ".py",
   "mimetype": "text/x-python",
   "name": "python",
   "nbconvert_exporter": "python",
   "pygments_lexer": "ipython3",
   "version": "3.13.0"
  }
 },
 "nbformat": 4,
 "nbformat_minor": 2
}
