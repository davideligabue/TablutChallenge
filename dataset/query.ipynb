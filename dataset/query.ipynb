{
 "cells": [
  {
   "cell_type": "code",
   "execution_count": 20,
   "metadata": {},
   "outputs": [],
   "source": [
    "import numpy as np\n",
    "dataset = data = np.load(\"dataset_moves.npy\", allow_pickle=True)\n",
    "results = data = np.load(\"dataset_results.npy\", allow_pickle=True)"
   ]
  },
  {
   "cell_type": "markdown",
   "metadata": {},
   "source": [
    "## Quanti match utili"
   ]
  },
  {
   "cell_type": "code",
   "execution_count": 21,
   "metadata": {},
   "outputs": [
    {
     "name": "stdout",
     "output_type": "stream",
     "text": [
      "Nel dataset ci sono 507 match con più di 20 mosse\n"
     ]
    }
   ],
   "source": [
    "X = 20\n",
    "count = sum(len(match) > X for match in dataset)\n",
    "print(f\"Nel dataset ci sono {count} match con più di {X} mosse\")"
   ]
  },
  {
   "cell_type": "markdown",
   "metadata": {},
   "source": [
    "## La n-esima mossa più frequente"
   ]
  },
  {
   "cell_type": "code",
   "execution_count": 22,
   "metadata": {},
   "outputs": [
    {
     "name": "stdout",
     "output_type": "stream",
     "text": [
      "Mossa: (e3, d3), Occorrenze: 167\n",
      "Mossa: (e3, f3), Occorrenze: 80\n",
      "Mossa: (d5, d4), Occorrenze: 62\n",
      "Mossa: (e3, b3), Occorrenze: 51\n",
      "Mossa: (e4, d4), Occorrenze: 44\n"
     ]
    }
   ],
   "source": [
    "from collections import Counter\n",
    "\n",
    "idx = 0         # which move (column)\n",
    "num_list = 5    # how many results\n",
    "\n",
    "idx_moves = []\n",
    "for match in dataset :\n",
    "    try:\n",
    "        idx_moves.append(tuple(match[idx]))\n",
    "    except: continue\n",
    "    \n",
    "move_counter = Counter(idx_moves)\n",
    "most_common_move, most_common_count = move_counter.most_common(1)[0]\n",
    "\n",
    "most_common_moves = move_counter.most_common(num_list)\n",
    "\n",
    "# Stampa le N mosse più frequenti\n",
    "for move, count in most_common_moves:\n",
    "    print(f\"Mossa: ({move[0].item()}, {move[1].item()}), Occorrenze: {count}\")"
   ]
  },
  {
   "cell_type": "markdown",
   "metadata": {},
   "source": [
    "## Quante vittorie, pareggi o sconfitte ?"
   ]
  },
  {
   "cell_type": "code",
   "execution_count": 23,
   "metadata": {},
   "outputs": [
    {
     "name": "stdout",
     "output_type": "stream",
     "text": [
      "Total matches: 869\n",
      "394 475\n",
      "869\n",
      "304 376 189 0\n",
      "869\n"
     ]
    }
   ],
   "source": [
    "white_wins_supposed = sum(len(match)%2!=0 for match in dataset)\n",
    "black_wins_supposed = sum(len(match)%2==0 for match in dataset)\n",
    "\n",
    "white_wins = sum(res==\"W\" for res in results)\n",
    "black_wins = sum(res==\"B\" for res in results)\n",
    "draws =      sum(res==\"D\" for res in results)\n",
    "other =      sum(res==\"I\" for res in results)\n",
    "\n",
    "print(f\"Total matches: {len(dataset)}\")\n",
    "\n",
    "print(white_wins_supposed,black_wins_supposed)\n",
    "print(white_wins_supposed + black_wins_supposed)\n",
    "\n",
    "print(white_wins,black_wins,draws,other)\n",
    "print(white_wins + black_wins + draws + other)"
   ]
  },
  {
   "cell_type": "markdown",
   "metadata": {},
   "source": [
    "## Qual è la n-esima mossa più vincente ?"
   ]
  },
  {
   "cell_type": "code",
   "execution_count": 27,
   "metadata": {},
   "outputs": [
    {
     "name": "stdout",
     "output_type": "stream",
     "text": [
      "Mossa: (e2, e3), Occorrenze: 54\n",
      "Mossa: (d9, d5), Occorrenze: 34\n",
      "Mossa: (e2, g2), Occorrenze: 20\n",
      "Mossa: (i4, e4), Occorrenze: 19\n",
      "Mossa: (e2, c2), Occorrenze: 16\n"
     ]
    }
   ],
   "source": [
    "from collections import Counter\n",
    "\n",
    "idx = 1         # which move (column)\n",
    "num_list = 5    # how many results\n",
    "\n",
    "idx_moves = []\n",
    "for i, match in enumerate(dataset) :\n",
    "    try:\n",
    "        res = results[i]\n",
    "        if (idx % 2 == 0 and res==\"W\") or (idx % 2 != 0 and res==\"B\") :\n",
    "            idx_moves.append(tuple(match[idx]))\n",
    "    except: continue\n",
    "    \n",
    "move_counter = Counter(idx_moves)\n",
    "most_common_move, most_common_count = move_counter.most_common(1)[0]\n",
    "\n",
    "most_common_moves = move_counter.most_common(num_list)\n",
    "\n",
    "# Stampa le N mosse più frequenti\n",
    "for move, count in most_common_moves:\n",
    "    print(f\"Mossa: ({move[0].item()}, {move[1].item()}), Occorrenze: {count}\")"
   ]
  }
 ],
 "metadata": {
  "kernelspec": {
   "display_name": "Python 3",
   "language": "python",
   "name": "python3"
  },
  "language_info": {
   "codemirror_mode": {
    "name": "ipython",
    "version": 3
   },
   "file_extension": ".py",
   "mimetype": "text/x-python",
   "name": "python",
   "nbconvert_exporter": "python",
   "pygments_lexer": "ipython3",
   "version": "3.13.0"
  }
 },
 "nbformat": 4,
 "nbformat_minor": 2
}
