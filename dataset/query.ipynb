{
 "cells": [
  {
   "cell_type": "code",
   "execution_count": 3,
   "metadata": {},
   "outputs": [],
   "source": [
    "import numpy as np\n",
    "dataset = data = np.load(\"dataset_moves.npy\", allow_pickle=True)\n",
    "results = data = np.load(\"dataset_results.npy\", allow_pickle=True)"
   ]
  },
  {
   "cell_type": "markdown",
   "metadata": {},
   "source": [
    "## Quanti match utili"
   ]
  },
  {
   "cell_type": "code",
   "execution_count": 4,
   "metadata": {},
   "outputs": [
    {
     "name": "stdout",
     "output_type": "stream",
     "text": [
      "Nel dataset ci sono 507 match con più di 20 mosse\n"
     ]
    }
   ],
   "source": [
    "X = 20\n",
    "count = sum(len(match) > X for match in dataset)\n",
    "print(f\"Nel dataset ci sono {count} match con più di {X} mosse\")"
   ]
  },
  {
   "cell_type": "markdown",
   "metadata": {},
   "source": [
    "## La n-esima mossa più frequente"
   ]
  },
  {
   "cell_type": "code",
   "execution_count": 5,
   "metadata": {},
   "outputs": [
    {
     "name": "stdout",
     "output_type": "stream",
     "text": [
      "Mossa: (e3, d3), Occorrenze: 167\n",
      "Mossa: (e3, f3), Occorrenze: 80\n",
      "Mossa: (d5, d4), Occorrenze: 62\n",
      "Mossa: (e3, b3), Occorrenze: 51\n",
      "Mossa: (e4, d4), Occorrenze: 44\n"
     ]
    }
   ],
   "source": [
    "from collections import Counter\n",
    "\n",
    "idx = 0         # which move (column)\n",
    "num_list = 5    # how many results\n",
    "\n",
    "idx_moves = []\n",
    "for match in dataset :\n",
    "    try:\n",
    "        idx_moves.append(tuple(match[idx]))\n",
    "    except: continue\n",
    "    \n",
    "move_counter = Counter(idx_moves)\n",
    "most_common_move, most_common_count = move_counter.most_common(1)[0]\n",
    "\n",
    "most_common_moves = move_counter.most_common(num_list)\n",
    "\n",
    "# Stampa le N mosse più frequenti\n",
    "for move, count in most_common_moves:\n",
    "    print(f\"Mossa: ({move[0].item()}, {move[1].item()}), Occorrenze: {count}\")"
   ]
  },
  {
   "cell_type": "markdown",
   "metadata": {},
   "source": [
    "## Quante vittorie, pareggi o sconfitte ?"
   ]
  },
  {
   "cell_type": "code",
   "execution_count": 6,
   "metadata": {},
   "outputs": [
    {
     "name": "stdout",
     "output_type": "stream",
     "text": [
      "Total matches: 869\n",
      "394 475\n",
      "869\n",
      "304 376 189 0\n",
      "869\n"
     ]
    }
   ],
   "source": [
    "white_wins_supposed = sum(len(match)%2!=0 for match in dataset)\n",
    "black_wins_supposed = sum(len(match)%2==0 for match in dataset)\n",
    "\n",
    "white_wins = sum(res==\"W\" for res in results)\n",
    "black_wins = sum(res==\"B\" for res in results)\n",
    "draws =      sum(res==\"D\" for res in results)\n",
    "other =      sum(res==\"I\" for res in results)\n",
    "\n",
    "print(f\"Total matches: {len(dataset)}\")\n",
    "\n",
    "print(white_wins_supposed,black_wins_supposed)\n",
    "print(white_wins_supposed + black_wins_supposed)\n",
    "\n",
    "print(white_wins,black_wins,draws,other)\n",
    "print(white_wins + black_wins + draws + other)"
   ]
  },
  {
   "cell_type": "markdown",
   "metadata": {},
   "source": [
    "## Qual è la n-esima mossa più vincente ?"
   ]
  },
  {
   "cell_type": "code",
   "execution_count": 13,
   "metadata": {},
   "outputs": [
    {
     "data": {
      "text/plain": [
       "[((np.str_('e3'), np.str_('d3')), 65),\n",
       " ((np.str_('e3'), np.str_('f3')), 29),\n",
       " ((np.str_('e3'), np.str_('b3')), 21),\n",
       " ((np.str_('f5'), np.str_('f4')), 21),\n",
       " ((np.str_('e4'), np.str_('d4')), 20)]"
      ]
     },
     "execution_count": 13,
     "metadata": {},
     "output_type": "execute_result"
    }
   ],
   "source": [
    "most_common_moves"
   ]
  },
  {
   "cell_type": "code",
   "execution_count": 22,
   "metadata": {},
   "outputs": [
    {
     "name": "stdout",
     "output_type": "stream",
     "text": [
      "Mossa: (e3, d3), Win race: 21.3816%\n",
      "Mossa: (e3, f3), Win race: 9.5395%\n",
      "Mossa: (e3, b3), Win race: 6.9079%\n",
      "Mossa: (f5, f4), Win race: 6.9079%\n",
      "Mossa: (e4, d4), Win race: 6.5789%\n",
      "Mossa: (d5, d4), Win race: 5.9211%\n",
      "Mossa: (e7, f7), Win race: 4.2763%\n",
      "Mossa: (e4, f4), Win race: 3.9474%\n",
      "Mossa: (c5, c6), Win race: 3.6184%\n",
      "Mossa: (c5, c4), Win race: 3.6184%\n",
      "Mossa: (d5, d8), Win race: 2.9605%\n",
      "Mossa: (c5, c2), Win race: 1.9737%\n",
      "Mossa: (e6, d6), Win race: 1.9737%\n",
      "Mossa: (e7, d7), Win race: 1.9737%\n",
      "Mossa: (c5, c8), Win race: 1.6447%\n",
      "Mossa: (e4, b4), Win race: 1.6447%\n",
      "Mossa: (g5, g8), Win race: 1.3158%\n",
      "Mossa: (g5, g4), Win race: 1.3158%\n",
      "Mossa: (e3, a3), Win race: 1.3158%\n",
      "Mossa: (c5, c3), Win race: 0.9868%\n",
      "Mossa: (e3, i3), Win race: 0.9868%\n",
      "Mossa: (g5, g2), Win race: 0.9868%\n",
      "Mossa: (f5, f6), Win race: 0.6579%\n",
      "Mossa: (d5, d2), Win race: 0.6579%\n",
      "Mossa: (e7, b7), Win race: 0.6579%\n",
      "Mossa: (e4, h4), Win race: 0.6579%\n",
      "Mossa: (d5, d3), Win race: 0.6579%\n",
      "Mossa: (g5, g6), Win race: 0.6579%\n",
      "Mossa: (e3, c3), Win race: 0.6579%\n",
      "Mossa: (e6, f6), Win race: 0.3289%\n",
      "Mossa: (e3, g3), Win race: 0.3289%\n",
      "Mossa: (e3, h3), Win race: 0.3289%\n",
      "Mossa: (g5, g1), Win race: 0.3289%\n",
      "Mossa: (e6, h6), Win race: 0.3289%\n",
      "Mossa: (c5, c1), Win race: 0.3289%\n",
      "Mossa: (e7, i7), Win race: 0.3289%\n",
      "Mossa: (f5, f7), Win race: 0.3289%\n",
      "Mossa: (e6, b6), Win race: 0.3289%\n",
      "Mossa: (d5, d6), Win race: 0.3289%\n",
      "Mossa: (e4, c4), Win race: 0.3289%\n",
      "100.00000000000006\n"
     ]
    }
   ],
   "source": [
    "from collections import Counter\n",
    "\n",
    "idx = 0         # which move (column)\n",
    "num_list = 5    # how many results\n",
    "\n",
    "idx_moves = []\n",
    "for i, match in enumerate(dataset) :\n",
    "    try:\n",
    "        res = results[i]\n",
    "        if (idx % 2 == 0 and res==\"W\") or (idx % 2 != 0 and res==\"B\") :\n",
    "            idx_moves.append(tuple(match[idx]))\n",
    "    except: continue\n",
    "    \n",
    "move_counter = Counter(idx_moves)\n",
    "most_common_move, most_common_count = move_counter.most_common(1)[0]\n",
    "\n",
    "most_common_moves = move_counter.most_common(None)\n",
    "\n",
    "# Stampa le N mosse più frequenti\n",
    "c = 0   # probability check\n",
    "for move, count in most_common_moves:\n",
    "    \n",
    "    if idx % 2 == 0:\n",
    "        print(f\"Mossa: ({move[0].item()}, {move[1].item()}), Win race: {count / white_wins * 100:.4f}%\")\n",
    "        c += count / white_wins * 100   # probability check\n",
    "    else:\n",
    "        print(f\"Mossa: ({move[0].item()}, {move[1].item()}), Win race: {count / black_wins * 100:.4f}%\")\n",
    "        c += count / black_wins * 100   # probability check\n",
    "print(c)    # probability check"
   ]
  }
 ],
 "metadata": {
  "kernelspec": {
   "display_name": "Python 3",
   "language": "python",
   "name": "python3"
  },
  "language_info": {
   "codemirror_mode": {
    "name": "ipython",
    "version": 3
   },
   "file_extension": ".py",
   "mimetype": "text/x-python",
   "name": "python",
   "nbconvert_exporter": "python",
   "pygments_lexer": "ipython3",
   "version": "3.13.0"
  }
 },
 "nbformat": 4,
 "nbformat_minor": 2
}
