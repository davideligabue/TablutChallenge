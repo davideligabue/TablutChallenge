{
 "cells": [
  {
   "cell_type": "code",
   "execution_count": 1,
   "metadata": {},
   "outputs": [],
   "source": [
    "import numpy as np\n",
    "dataset = data = np.load(\"dataset_moves.npy\", allow_pickle=True)"
   ]
  },
  {
   "cell_type": "markdown",
   "metadata": {},
   "source": [
    "## Quanti match utili"
   ]
  },
  {
   "cell_type": "code",
   "execution_count": 2,
   "metadata": {},
   "outputs": [
    {
     "name": "stdout",
     "output_type": "stream",
     "text": [
      "Nel dataset ci sono 507 match con più di 20 mosse\n"
     ]
    }
   ],
   "source": [
    "X = 20\n",
    "count = sum(len(match) > X for match in dataset)\n",
    "print(f\"Nel dataset ci sono {count} match con più di {X} mosse\")"
   ]
  },
  {
   "cell_type": "markdown",
   "metadata": {},
   "source": [
    "## La prima mossa più frequente"
   ]
  },
  {
   "cell_type": "code",
   "execution_count": 3,
   "metadata": {},
   "outputs": [
    {
     "name": "stdout",
     "output_type": "stream",
     "text": [
      "Mossa: (e3, d3), Occorrenze: 167\n",
      "Mossa: (e3, f3), Occorrenze: 80\n",
      "Mossa: (d5, d4), Occorrenze: 62\n",
      "Mossa: (e3, b3), Occorrenze: 51\n",
      "Mossa: (e4, d4), Occorrenze: 44\n"
     ]
    }
   ],
   "source": [
    "from collections import Counter\n",
    "\n",
    "idx = 0         # which move (column)\n",
    "num_list = 5    # how many results\n",
    "\n",
    "idx_moves = []\n",
    "for match in dataset :\n",
    "    try:\n",
    "        idx_moves.append(tuple(match[idx]))\n",
    "    except: continue\n",
    "    \n",
    "move_counter = Counter(idx_moves)\n",
    "most_common_move, most_common_count = move_counter.most_common(1)[0]\n",
    "\n",
    "most_common_moves = move_counter.most_common(num_list)\n",
    "\n",
    "# Stampa le N mosse più frequenti\n",
    "for move, count in most_common_moves:\n",
    "    print(f\"Mossa: ({move[0].item()}, {move[1].item()}), Occorrenze: {count}\")"
   ]
  }
 ],
 "metadata": {
  "kernelspec": {
   "display_name": "Python 3",
   "language": "python",
   "name": "python3"
  },
  "language_info": {
   "codemirror_mode": {
    "name": "ipython",
    "version": 3
   },
   "file_extension": ".py",
   "mimetype": "text/x-python",
   "name": "python",
   "nbconvert_exporter": "python",
   "pygments_lexer": "ipython3",
   "version": "3.13.0"
  }
 },
 "nbformat": 4,
 "nbformat_minor": 2
}
